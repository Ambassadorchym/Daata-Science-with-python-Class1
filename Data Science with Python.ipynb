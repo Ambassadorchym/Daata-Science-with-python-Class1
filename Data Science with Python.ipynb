{
 "cells": [
  {
   "cell_type": "markdown",
   "id": "753d37f9",
   "metadata": {},
   "source": [
    "## Data Science with Python\n",
    "\n",
    "Python is a computer programming language often used to build websites, software, automate tasks and conduct data analysis"
   ]
  },
  {
   "cell_type": "markdown",
   "id": "058fef7c",
   "metadata": {},
   "source": [
    "## Data Types\n",
    "- Integers\n",
    "- Floats\n",
    "- Strings\n",
    "- Booleans\n",
    "- Tulpes\n",
    "- Sets\n",
    "- Dictionaries\n",
    "- Lists\n"
   ]
  },
  {
   "cell_type": "code",
   "execution_count": 1,
   "id": "2d75d525",
   "metadata": {},
   "outputs": [
    {
     "data": {
      "text/plain": [
       "7"
      ]
     },
     "execution_count": 1,
     "metadata": {},
     "output_type": "execute_result"
    }
   ],
   "source": [
    "# Integers are whole numbers, wheather postive or nrgative\n",
    "2+5"
   ]
  },
  {
   "cell_type": "code",
   "execution_count": 2,
   "id": "0b89fa0e",
   "metadata": {},
   "outputs": [
    {
     "data": {
      "text/plain": [
       "135"
      ]
     },
     "execution_count": 2,
     "metadata": {},
     "output_type": "execute_result"
    }
   ],
   "source": [
    "# additon of two numbers\n",
    "65+70"
   ]
  },
  {
   "cell_type": "code",
   "execution_count": 3,
   "id": "10ac68dd",
   "metadata": {},
   "outputs": [
    {
     "data": {
      "text/plain": [
       "62"
      ]
     },
     "execution_count": 3,
     "metadata": {},
     "output_type": "execute_result"
    }
   ],
   "source": [
    "#subtraction\n",
    "67-5"
   ]
  },
  {
   "cell_type": "code",
   "execution_count": 4,
   "id": "e058a9b8",
   "metadata": {},
   "outputs": [
    {
     "data": {
      "text/plain": [
       "25"
      ]
     },
     "execution_count": 4,
     "metadata": {},
     "output_type": "execute_result"
    }
   ],
   "source": [
    "#multiplication\n",
    "5*5"
   ]
  },
  {
   "cell_type": "code",
   "execution_count": 5,
   "id": "6a8fecec",
   "metadata": {},
   "outputs": [
    {
     "data": {
      "text/plain": [
       "64"
      ]
     },
     "execution_count": 5,
     "metadata": {},
     "output_type": "execute_result"
    }
   ],
   "source": [
    "#sqaured root\n",
    "8**2"
   ]
  },
  {
   "cell_type": "code",
   "execution_count": 6,
   "id": "008d9a73",
   "metadata": {},
   "outputs": [
    {
     "data": {
      "text/plain": [
       "12"
      ]
     },
     "execution_count": 6,
     "metadata": {},
     "output_type": "execute_result"
    }
   ],
   "source": [
    "#division\n",
    "#floor division\n",
    "#Returns only a whole number\n",
    "60//5\n"
   ]
  },
  {
   "cell_type": "code",
   "execution_count": 7,
   "id": "6487d4d8",
   "metadata": {},
   "outputs": [
    {
     "data": {
      "text/plain": [
       "12.0"
      ]
     },
     "execution_count": 7,
     "metadata": {},
     "output_type": "execute_result"
    }
   ],
   "source": [
    "60/5"
   ]
  },
  {
   "cell_type": "code",
   "execution_count": 8,
   "id": "1c86a6cc",
   "metadata": {},
   "outputs": [
    {
     "data": {
      "text/plain": [
       "0"
      ]
     },
     "execution_count": 8,
     "metadata": {},
     "output_type": "execute_result"
    }
   ],
   "source": [
    "#modulo division\n",
    "#Returns a remainder\n",
    "60%5"
   ]
  },
  {
   "cell_type": "code",
   "execution_count": 12,
   "id": "6507b549",
   "metadata": {},
   "outputs": [
    {
     "data": {
      "text/plain": [
       "4"
      ]
     },
     "execution_count": 12,
     "metadata": {},
     "output_type": "execute_result"
    }
   ],
   "source": [
    "#modulo division\n",
    "24% 5   "
   ]
  },
  {
   "cell_type": "code",
   "execution_count": 16,
   "id": "7d7e5d3a",
   "metadata": {},
   "outputs": [
    {
     "data": {
      "text/plain": [
       "int"
      ]
     },
     "execution_count": 16,
     "metadata": {},
     "output_type": "execute_result"
    }
   ],
   "source": [
    "type(4)"
   ]
  },
  {
   "cell_type": "markdown",
   "id": "8b1441ee",
   "metadata": {},
   "source": [
    "## Floats"
   ]
  },
  {
   "cell_type": "code",
   "execution_count": 13,
   "id": "25195d01",
   "metadata": {},
   "outputs": [
    {
     "data": {
      "text/plain": [
       "49.3"
      ]
     },
     "execution_count": 13,
     "metadata": {},
     "output_type": "execute_result"
    }
   ],
   "source": [
    "#floats are decimal numbers\n",
    "45.3 + 4"
   ]
  },
  {
   "cell_type": "code",
   "execution_count": 14,
   "id": "68c74a57",
   "metadata": {},
   "outputs": [
    {
     "data": {
      "text/plain": [
       "float"
      ]
     },
     "execution_count": 14,
     "metadata": {},
     "output_type": "execute_result"
    }
   ],
   "source": [
    "type(49.3)"
   ]
  },
  {
   "cell_type": "code",
   "execution_count": 17,
   "id": "9a8f51ff",
   "metadata": {},
   "outputs": [
    {
     "data": {
      "text/plain": [
       "3.0"
      ]
     },
     "execution_count": 17,
     "metadata": {},
     "output_type": "execute_result"
    }
   ],
   "source": [
    "8.5 - 5.5"
   ]
  },
  {
   "cell_type": "code",
   "execution_count": 18,
   "id": "2985ae57",
   "metadata": {},
   "outputs": [
    {
     "data": {
      "text/plain": [
       "float"
      ]
     },
     "execution_count": 18,
     "metadata": {},
     "output_type": "execute_result"
    }
   ],
   "source": [
    "type(3.0)"
   ]
  },
  {
   "cell_type": "markdown",
   "id": "31f646d1",
   "metadata": {},
   "source": [
    "## Variable Assignment"
   ]
  },
  {
   "cell_type": "code",
   "execution_count": 20,
   "id": "c6479919",
   "metadata": {},
   "outputs": [
    {
     "data": {
      "text/plain": [
       "17"
      ]
     },
     "execution_count": 20,
     "metadata": {},
     "output_type": "execute_result"
    }
   ],
   "source": [
    "age = 17\n",
    "age"
   ]
  },
  {
   "cell_type": "code",
   "execution_count": 21,
   "id": "91caac41",
   "metadata": {},
   "outputs": [
    {
     "name": "stdout",
     "output_type": "stream",
     "text": [
      "17\n"
     ]
    }
   ],
   "source": [
    "print(age)"
   ]
  },
  {
   "cell_type": "code",
   "execution_count": 22,
   "id": "fe542e56",
   "metadata": {},
   "outputs": [
    {
     "data": {
      "text/plain": [
       "51"
      ]
     },
     "execution_count": 22,
     "metadata": {},
     "output_type": "execute_result"
    }
   ],
   "source": [
    "age *3"
   ]
  },
  {
   "cell_type": "code",
   "execution_count": 23,
   "id": "69989476",
   "metadata": {},
   "outputs": [
    {
     "data": {
      "text/plain": [
       "4.25"
      ]
     },
     "execution_count": 23,
     "metadata": {},
     "output_type": "execute_result"
    }
   ],
   "source": [
    "age /4"
   ]
  },
  {
   "cell_type": "code",
   "execution_count": 30,
   "id": "9122e9e1",
   "metadata": {},
   "outputs": [
    {
     "data": {
      "text/plain": [
       "61"
      ]
     },
     "execution_count": 30,
     "metadata": {},
     "output_type": "execute_result"
    }
   ],
   "source": [
    "# The score in a student's tests, attendance and exam\n",
    "# Calculate the student's total score\n",
    "first_test = 7\n",
    "second_test = 9\n",
    "attd = 5\n",
    "exam = 56\n",
    "total_score = first_test + second_test + attd + exam\n",
    "total_score\n",
    "attdAndexam = attd + exam\n",
    "attdAndexam"
   ]
  },
  {
   "cell_type": "code",
   "execution_count": 27,
   "id": "065cb142",
   "metadata": {},
   "outputs": [
    {
     "data": {
      "text/plain": [
       "61"
      ]
     },
     "execution_count": 27,
     "metadata": {},
     "output_type": "execute_result"
    }
   ],
   "source": [
    "attd + exam"
   ]
  },
  {
   "cell_type": "code",
   "execution_count": 31,
   "id": "23c2e189",
   "metadata": {},
   "outputs": [
    {
     "name": "stdout",
     "output_type": "stream",
     "text": [
      "17\n",
      "77\n"
     ]
    }
   ],
   "source": [
    "#printing more than one output\n",
    "\n",
    "print(age)\n",
    "print(total_score)"
   ]
  },
  {
   "cell_type": "code",
   "execution_count": 37,
   "id": "50c1b6ae",
   "metadata": {},
   "outputs": [
    {
     "name": "stdout",
     "output_type": "stream",
     "text": [
      "What is your score in the first test?   : 7\n",
      "What is your score in the second test? : 9\n",
      "What is your score in the attendance?  : 10\n",
      "What is your score in the exam?  : 56\n",
      "82\n"
     ]
    }
   ],
   "source": [
    "#score calculator\n",
    "first_test = int(input(\"What is your score in the first test?   : \"))\n",
    "second_test =  int(input(\"What is your score in the second test? : \"))\n",
    "attd =  int(input(\"What is your score in the attendance?  : \"))\n",
    "exam =  int(input(\"What is your score in the exam?  : \"))\n",
    "\n",
    "total_score = first_test + second_test + attd + exam\n",
    "\n",
    "print(total_score)\n"
   ]
  },
  {
   "cell_type": "markdown",
   "id": "dde68da7",
   "metadata": {},
   "source": [
    "## string\n",
    "- A strings is a sequence of a unicode characters\n",
    "- String is represented using a single or double quotation marks\n",
    "- All characters between the quotes are items of the string"
   ]
  },
  {
   "cell_type": "code",
   "execution_count": 38,
   "id": "f15d2066",
   "metadata": {},
   "outputs": [
    {
     "data": {
      "text/plain": [
       "'hello world'"
      ]
     },
     "execution_count": 38,
     "metadata": {},
     "output_type": "execute_result"
    }
   ],
   "source": [
    "\"hello world\""
   ]
  },
  {
   "cell_type": "code",
   "execution_count": 39,
   "id": "c16c6567",
   "metadata": {},
   "outputs": [
    {
     "data": {
      "text/plain": [
       "str"
      ]
     },
     "execution_count": 39,
     "metadata": {},
     "output_type": "execute_result"
    }
   ],
   "source": [
    "type('hello world')"
   ]
  },
  {
   "cell_type": "code",
   "execution_count": 40,
   "id": "b7e3d133",
   "metadata": {},
   "outputs": [
    {
     "name": "stdout",
     "output_type": "stream",
     "text": [
      "chinyere\n"
     ]
    }
   ],
   "source": [
    "print(\"chinyere\")"
   ]
  },
  {
   "cell_type": "code",
   "execution_count": 42,
   "id": "e4a75899",
   "metadata": {},
   "outputs": [
    {
     "name": "stdout",
     "output_type": "stream",
     "text": [
      "I'm a girl\n"
     ]
    }
   ],
   "source": [
    "print('I\\'m a girl')"
   ]
  },
  {
   "cell_type": "code",
   "execution_count": 43,
   "id": "605241fd",
   "metadata": {},
   "outputs": [
    {
     "data": {
      "text/plain": [
       "8"
      ]
     },
     "execution_count": 43,
     "metadata": {},
     "output_type": "execute_result"
    }
   ],
   "source": [
    "#Returns the lenght\n",
    "len(\"chinyere\")"
   ]
  },
  {
   "cell_type": "code",
   "execution_count": 44,
   "id": "ecba704c",
   "metadata": {},
   "outputs": [
    {
     "name": "stdout",
     "output_type": "stream",
     "text": [
      "my name is chinyere\n",
      "I'm a member of this class\n"
     ]
    }
   ],
   "source": [
    "print(\"my name is chinyere\")\n",
    "print(\"I'm a member of this class\")"
   ]
  },
  {
   "cell_type": "code",
   "execution_count": 45,
   "id": "d673b3f2",
   "metadata": {},
   "outputs": [
    {
     "name": "stdout",
     "output_type": "stream",
     "text": [
      "my name is chinyere\n",
      "I am from Anambra state\n",
      "I love my state\n"
     ]
    }
   ],
   "source": [
    "#\\n goose to the next line\n",
    "print(\"my name is chinyere\\nI am from Anambra state\\nI love my state\")"
   ]
  },
  {
   "cell_type": "code",
   "execution_count": 46,
   "id": "d62c84ab",
   "metadata": {},
   "outputs": [
    {
     "name": "stdout",
     "output_type": "stream",
     "text": [
      "my name is chinyere\n",
      "\n",
      "\n",
      "I love my mum.\n"
     ]
    }
   ],
   "source": [
    "print(\"my name is chinyere\\n\\n\\nI love my mum.\")"
   ]
  },
  {
   "cell_type": "code",
   "execution_count": 49,
   "id": "8787b2f1",
   "metadata": {},
   "outputs": [
    {
     "data": {
      "text/plain": [
       "'chinyere'"
      ]
     },
     "execution_count": 49,
     "metadata": {},
     "output_type": "execute_result"
    }
   ],
   "source": [
    "name = \"chinyere\"\n",
    "name"
   ]
  },
  {
   "cell_type": "code",
   "execution_count": 50,
   "id": "052a7b31",
   "metadata": {},
   "outputs": [
    {
     "data": {
      "text/plain": [
       "str"
      ]
     },
     "execution_count": 50,
     "metadata": {},
     "output_type": "execute_result"
    }
   ],
   "source": [
    "type(name)"
   ]
  },
  {
   "cell_type": "code",
   "execution_count": 51,
   "id": "0207cd2b",
   "metadata": {
    "scrolled": true
   },
   "outputs": [
    {
     "name": "stdout",
     "output_type": "stream",
     "text": [
      "chinyerechinyere\n"
     ]
    }
   ],
   "source": [
    "print(name*2)"
   ]
  },
  {
   "cell_type": "code",
   "execution_count": 53,
   "id": "f97e16e4",
   "metadata": {},
   "outputs": [
    {
     "name": "stdout",
     "output_type": "stream",
     "text": [
      "chinyere 17\n"
     ]
    }
   ],
   "source": [
    "print(name,age)"
   ]
  },
  {
   "cell_type": "code",
   "execution_count": 58,
   "id": "a73b62f0",
   "metadata": {},
   "outputs": [
    {
     "name": "stdout",
     "output_type": "stream",
     "text": [
      "chinyere\n",
      "17\n"
     ]
    }
   ],
   "source": [
    "#seperation between each variable\n",
    "print(name,age, sep='\\n')"
   ]
  },
  {
   "cell_type": "code",
   "execution_count": 63,
   "id": "df78fa94",
   "metadata": {},
   "outputs": [
    {
     "name": "stdout",
     "output_type": "stream",
     "text": [
      "what is your first name? >>>>>chinyere\n",
      "what is your last name?>>>>>chukwuka\n",
      "chinyere  chukwuka\n"
     ]
    }
   ],
   "source": [
    "# a programm to return a person's full name\n",
    "first_name = input(\"what is your first name? >>>>>\")\n",
    "last_name = input(\"what is your last name?>>>>>\")\n",
    "full_name = first_name + '  ' + last_name\n",
    "print(full_name)"
   ]
  },
  {
   "cell_type": "code",
   "execution_count": 64,
   "id": "7d0f6383",
   "metadata": {},
   "outputs": [
    {
     "data": {
      "text/plain": [
       "18"
      ]
     },
     "execution_count": 64,
     "metadata": {},
     "output_type": "execute_result"
    }
   ],
   "source": [
    "len(full_name)"
   ]
  },
  {
   "cell_type": "markdown",
   "id": "f1773785",
   "metadata": {},
   "source": [
    "## indexing and slicing\n",
    "- indexing is used to obtain individual element.\n",
    "- slicng is used to obtain a sequence of element\n",
    "- indexing starts from zero. Thats the first element in the sequence is index 0\n",
    "- negative indexing starts from -1"
   ]
  },
  {
   "cell_type": "code",
   "execution_count": 65,
   "id": "5496f713",
   "metadata": {},
   "outputs": [
    {
     "data": {
      "text/plain": [
       "'chinyere'"
      ]
     },
     "execution_count": 65,
     "metadata": {},
     "output_type": "execute_result"
    }
   ],
   "source": [
    "name"
   ]
  },
  {
   "cell_type": "code",
   "execution_count": 66,
   "id": "902e463d",
   "metadata": {},
   "outputs": [
    {
     "data": {
      "text/plain": [
       "'c'"
      ]
     },
     "execution_count": 66,
     "metadata": {},
     "output_type": "execute_result"
    }
   ],
   "source": [
    "name[0]"
   ]
  },
  {
   "cell_type": "code",
   "execution_count": 68,
   "id": "b92fea97",
   "metadata": {},
   "outputs": [
    {
     "data": {
      "text/plain": [
       "'r'"
      ]
     },
     "execution_count": 68,
     "metadata": {},
     "output_type": "execute_result"
    }
   ],
   "source": [
    "name[-2]"
   ]
  },
  {
   "cell_type": "code",
   "execution_count": 69,
   "id": "3cf91c48",
   "metadata": {},
   "outputs": [
    {
     "data": {
      "text/plain": [
       "'n'"
      ]
     },
     "execution_count": 69,
     "metadata": {},
     "output_type": "execute_result"
    }
   ],
   "source": [
    "name[-5]"
   ]
  },
  {
   "cell_type": "code",
   "execution_count": 72,
   "id": "8d93cba9",
   "metadata": {},
   "outputs": [
    {
     "data": {
      "text/plain": [
       "'hin'"
      ]
     },
     "execution_count": 72,
     "metadata": {},
     "output_type": "execute_result"
    }
   ],
   "source": [
    "# slicing\n",
    "# [start: stop: step]\n",
    "\n",
    "name [1:4]"
   ]
  },
  {
   "cell_type": "code",
   "execution_count": 73,
   "id": "46c3f382",
   "metadata": {},
   "outputs": [
    {
     "data": {
      "text/plain": [
       "'chinyere'"
      ]
     },
     "execution_count": 73,
     "metadata": {},
     "output_type": "execute_result"
    }
   ],
   "source": [
    "name[:]"
   ]
  },
  {
   "cell_type": "code",
   "execution_count": 75,
   "id": "df62b0d4",
   "metadata": {},
   "outputs": [
    {
     "data": {
      "text/plain": [
       "'een'"
      ]
     },
     "execution_count": 75,
     "metadata": {},
     "output_type": "execute_result"
    }
   ],
   "source": [
    "name [:1:-2]"
   ]
  },
  {
   "cell_type": "code",
   "execution_count": 77,
   "id": "168d1abc",
   "metadata": {},
   "outputs": [
    {
     "data": {
      "text/plain": [
       "[0, 1, 2, 3, 4, 5, 6, 7, 8, 9]"
      ]
     },
     "execution_count": 77,
     "metadata": {},
     "output_type": "execute_result"
    }
   ],
   "source": [
    "mylist = list(range(10))\n",
    "mylist"
   ]
  },
  {
   "cell_type": "code",
   "execution_count": 82,
   "id": "c3ea0cbf",
   "metadata": {},
   "outputs": [
    {
     "data": {
      "text/plain": [
       "[1, 2, 3]"
      ]
     },
     "execution_count": 82,
     "metadata": {},
     "output_type": "execute_result"
    }
   ],
   "source": [
    "mylist [1:4]"
   ]
  },
  {
   "cell_type": "code",
   "execution_count": 83,
   "id": "187429d9",
   "metadata": {},
   "outputs": [
    {
     "data": {
      "text/plain": [
       "[2, 4, 6]"
      ]
     },
     "execution_count": 83,
     "metadata": {},
     "output_type": "execute_result"
    }
   ],
   "source": [
    "mylist [2:8:2]"
   ]
  },
  {
   "cell_type": "code",
   "execution_count": 85,
   "id": "253ebaed",
   "metadata": {},
   "outputs": [
    {
     "data": {
      "text/plain": [
       "[3, 5, 7]"
      ]
     },
     "execution_count": 85,
     "metadata": {},
     "output_type": "execute_result"
    }
   ],
   "source": [
    "mylist[3:-2:2]"
   ]
  },
  {
   "cell_type": "code",
   "execution_count": 86,
   "id": "6c566b44",
   "metadata": {},
   "outputs": [
    {
     "data": {
      "text/plain": [
       "[9, 7, 5, 3]"
      ]
     },
     "execution_count": 86,
     "metadata": {},
     "output_type": "execute_result"
    }
   ],
   "source": [
    "mylist[:2:-2]"
   ]
  },
  {
   "cell_type": "code",
   "execution_count": 87,
   "id": "e44e4103",
   "metadata": {},
   "outputs": [
    {
     "data": {
      "text/plain": [
       "str"
      ]
     },
     "execution_count": 87,
     "metadata": {},
     "output_type": "execute_result"
    }
   ],
   "source": [
    "type(name)"
   ]
  },
  {
   "cell_type": "code",
   "execution_count": 88,
   "id": "74005f66",
   "metadata": {},
   "outputs": [
    {
     "data": {
      "text/plain": [
       "'new york'"
      ]
     },
     "execution_count": 88,
     "metadata": {},
     "output_type": "execute_result"
    }
   ],
   "source": [
    "place = \"new york\"\n",
    "place"
   ]
  },
  {
   "cell_type": "code",
   "execution_count": 89,
   "id": "7a6f5434",
   "metadata": {},
   "outputs": [
    {
     "data": {
      "text/plain": [
       "'New york'"
      ]
     },
     "execution_count": 89,
     "metadata": {},
     "output_type": "execute_result"
    }
   ],
   "source": [
    "place.capitalize()"
   ]
  },
  {
   "cell_type": "code",
   "execution_count": 90,
   "id": "f2325be6",
   "metadata": {},
   "outputs": [
    {
     "data": {
      "text/plain": [
       "'New York'"
      ]
     },
     "execution_count": 90,
     "metadata": {},
     "output_type": "execute_result"
    }
   ],
   "source": [
    "place.title()"
   ]
  },
  {
   "cell_type": "code",
   "execution_count": 91,
   "id": "803f9a59",
   "metadata": {},
   "outputs": [
    {
     "data": {
      "text/plain": [
       "['new', 'york']"
      ]
     },
     "execution_count": 91,
     "metadata": {},
     "output_type": "execute_result"
    }
   ],
   "source": [
    "place.split()"
   ]
  },
  {
   "cell_type": "code",
   "execution_count": 92,
   "id": "e723195f",
   "metadata": {},
   "outputs": [
    {
     "data": {
      "text/plain": [
       "'the boy is the school'"
      ]
     },
     "execution_count": 92,
     "metadata": {},
     "output_type": "execute_result"
    }
   ],
   "source": [
    "sent = 'the boy is the school'\n",
    "sent"
   ]
  },
  {
   "cell_type": "code",
   "execution_count": 93,
   "id": "fbab448c",
   "metadata": {},
   "outputs": [
    {
     "data": {
      "text/plain": [
       "'The boy is the school'"
      ]
     },
     "execution_count": 93,
     "metadata": {},
     "output_type": "execute_result"
    }
   ],
   "source": [
    "sent.capitalize()"
   ]
  },
  {
   "cell_type": "code",
   "execution_count": 94,
   "id": "f4fd67ab",
   "metadata": {},
   "outputs": [
    {
     "data": {
      "text/plain": [
       "['the', 'boy', 'is', 'the', 'school']"
      ]
     },
     "execution_count": 94,
     "metadata": {},
     "output_type": "execute_result"
    }
   ],
   "source": [
    "sent.split()"
   ]
  },
  {
   "cell_type": "code",
   "execution_count": 95,
   "id": "ca2b9e3b",
   "metadata": {},
   "outputs": [
    {
     "data": {
      "text/plain": [
       "['the ', ' is the school']"
      ]
     },
     "execution_count": 95,
     "metadata": {},
     "output_type": "execute_result"
    }
   ],
   "source": [
    "sent.split('boy')"
   ]
  },
  {
   "cell_type": "code",
   "execution_count": 96,
   "id": "5fdbe33a",
   "metadata": {},
   "outputs": [
    {
     "data": {
      "text/plain": [
       "'NEW YORK'"
      ]
     },
     "execution_count": 96,
     "metadata": {},
     "output_type": "execute_result"
    }
   ],
   "source": [
    "place.upper()"
   ]
  },
  {
   "cell_type": "code",
   "execution_count": 97,
   "id": "6588b05e",
   "metadata": {},
   "outputs": [
    {
     "data": {
      "text/plain": [
       "3"
      ]
     },
     "execution_count": 97,
     "metadata": {},
     "output_type": "execute_result"
    }
   ],
   "source": [
    "sent.count(\"o\")"
   ]
  },
  {
   "cell_type": "code",
   "execution_count": 101,
   "id": "63a99e57",
   "metadata": {},
   "outputs": [
    {
     "data": {
      "text/plain": [
       "'how are you doing'"
      ]
     },
     "execution_count": 101,
     "metadata": {},
     "output_type": "execute_result"
    }
   ],
   "source": [
    "word =['how','are','you', 'doing']\n",
    "\n",
    "fullsent = ' '.join(word)\n",
    "fullsent"
   ]
  },
  {
   "cell_type": "markdown",
   "id": "a3ceb1de",
   "metadata": {},
   "source": [
    "### format printing"
   ]
  },
  {
   "cell_type": "code",
   "execution_count": 105,
   "id": "1b04931e",
   "metadata": {},
   "outputs": [
    {
     "name": "stdout",
     "output_type": "stream",
     "text": [
      "my name is victor I am 24 years old\n"
     ]
    }
   ],
   "source": [
    "name = 'victor' \n",
    "age = 24\n",
    "print('my name is',name,'I am',age,'years old')"
   ]
  },
  {
   "cell_type": "code",
   "execution_count": 108,
   "id": "961d7be8",
   "metadata": {},
   "outputs": [
    {
     "name": "stdout",
     "output_type": "stream",
     "text": [
      "my name is victor and I am 24years old\n"
     ]
    }
   ],
   "source": [
    "#.format method\n",
    "print('my name is {} ' 'and I am {}years old'.format(name,age))"
   ]
  },
  {
   "cell_type": "code",
   "execution_count": 110,
   "id": "cf2dc79a",
   "metadata": {},
   "outputs": [
    {
     "name": "stdout",
     "output_type": "stream",
     "text": [
      "my name is victor and I am 24 years old\n"
     ]
    }
   ],
   "source": [
    "#placeholder method\n",
    "print('my name is %s ' 'and I am %s years old' %(name,age))"
   ]
  },
  {
   "cell_type": "code",
   "execution_count": 112,
   "id": "ea68c03b",
   "metadata": {},
   "outputs": [
    {
     "name": "stdout",
     "output_type": "stream",
     "text": [
      "my name is victor and I am 24 years old\n"
     ]
    }
   ],
   "source": [
    "# f-string\n",
    "print(f'my name is {name} and I am {age} years old')"
   ]
  },
  {
   "cell_type": "code",
   "execution_count": null,
   "id": "86757527",
   "metadata": {},
   "outputs": [],
   "source": []
  },
  {
   "cell_type": "code",
   "execution_count": null,
   "id": "5e9a1099",
   "metadata": {},
   "outputs": [],
   "source": []
  },
  {
   "cell_type": "code",
   "execution_count": null,
   "id": "2c329a4b",
   "metadata": {},
   "outputs": [],
   "source": []
  },
  {
   "cell_type": "code",
   "execution_count": null,
   "id": "ad1dda14",
   "metadata": {},
   "outputs": [],
   "source": []
  },
  {
   "cell_type": "code",
   "execution_count": null,
   "id": "ee7670fc",
   "metadata": {},
   "outputs": [],
   "source": []
  },
  {
   "cell_type": "code",
   "execution_count": null,
   "id": "dca108c6",
   "metadata": {},
   "outputs": [],
   "source": []
  },
  {
   "cell_type": "code",
   "execution_count": null,
   "id": "5e674f7d",
   "metadata": {},
   "outputs": [],
   "source": []
  },
  {
   "cell_type": "code",
   "execution_count": null,
   "id": "541990fe",
   "metadata": {},
   "outputs": [],
   "source": []
  },
  {
   "cell_type": "code",
   "execution_count": null,
   "id": "d2bfd1da",
   "metadata": {},
   "outputs": [],
   "source": []
  },
  {
   "cell_type": "code",
   "execution_count": null,
   "id": "2fe9aab6",
   "metadata": {},
   "outputs": [],
   "source": []
  }
 ],
 "metadata": {
  "kernelspec": {
   "display_name": "Python 3",
   "language": "python",
   "name": "python3"
  },
  "language_info": {
   "codemirror_mode": {
    "name": "ipython",
    "version": 3
   },
   "file_extension": ".py",
   "mimetype": "text/x-python",
   "name": "python",
   "nbconvert_exporter": "python",
   "pygments_lexer": "ipython3",
   "version": "3.8.8"
  }
 },
 "nbformat": 4,
 "nbformat_minor": 5
}
